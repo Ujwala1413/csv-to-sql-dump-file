{
 "cells": [
  {
   "cell_type": "code",
   "execution_count": 1,
   "id": "0c406ca3-c28e-4daa-bb3a-82ca326ad711",
   "metadata": {},
   "outputs": [
    {
     "name": "stdout",
     "output_type": "stream",
     "text": [
      "SQL dump has been written to Customer_churn_dump.sql\n"
     ]
    }
   ],
   "source": [
    "import pandas as pd\n",
    "import sqlite3\n",
    "\n",
    "#  Ensuring file path for customer churn data\n",
    "churn_data = \"Customer_Churn_Data.csv\"  \n",
    "desired_table_name = \"Customer_churn\"  \n",
    "output_file = \"Customer_churn_dump.sql\"  \n",
    "\n",
    "# Step 1: Loading the CSV data into dataframe\n",
    "df = pd.read_csv(churn_data)\n",
    "\n",
    "# Step 2: Creating SQLite in-memory database and export as SQL dump\n",
    "conn = sqlite3.connect(\":memory:\")  \n",
    "df.to_sql(table_name, conn, if_exists=\"replace\", index=False)  # Loading data in temperory table of sqldatabase\n",
    "\n",
    "# Step 3: Generating SQL dump file\n",
    "with open(output_sql_file, \"w\") as f:\n",
    "    for line in conn.iterdump():\n",
    "        f.write(f\"{line}\\n\")\n",
    "\n",
    "print(f\"SQL dump has been written to {output_sql_file}\")\n",
    "conn.close()   #closing the connections after generating SQL dump file"
   ]
  },
  {
   "cell_type": "code",
   "execution_count": null,
   "id": "bbc1bfc8-ebf1-4a44-8f8e-20f67ac50032",
   "metadata": {},
   "outputs": [],
   "source": []
  }
 ],
 "metadata": {
  "kernelspec": {
   "display_name": "Python 3 (ipykernel)",
   "language": "python",
   "name": "python3"
  },
  "language_info": {
   "codemirror_mode": {
    "name": "ipython",
    "version": 3
   },
   "file_extension": ".py",
   "mimetype": "text/x-python",
   "name": "python",
   "nbconvert_exporter": "python",
   "pygments_lexer": "ipython3",
   "version": "3.11.5"
  }
 },
 "nbformat": 4,
 "nbformat_minor": 5
}
